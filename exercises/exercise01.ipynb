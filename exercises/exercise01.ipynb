{
 "cells": [
  {
   "cell_type": "markdown",
   "metadata": {},
   "source": [
    "# Creating an Image from Scratch\n",
    "\n",
    "\n",
    "### QUESTION : \n",
    "\n",
    "Remember the definitions of Image and Digital Image;\n",
    "- An image can be defined as a two dimensional function $f(x,y)$ where $x$ and $y$ are plane coordinates and the amplitude of f at any pair of coordinates $(x, y)$ is called the intensity or gray level of image at that point.\n",
    "- When $x$, $y$ and the intensity values of $f$ are all finite, discrete quantities, we call the image a digital image.\n",
    "\n",
    "\n",
    "The aim of this exercis is to create an image which is darkest at its center and brightest at image corners. In order to create such an image, mathematical definition of circle can be used. We can use the folllowing circle equation which defines a circle centered at $(200,300)$. \n",
    "\\begin{equation}\n",
    "f(x,y)=(x−200)^2 +(y−300)^2 \n",
    "\\end{equation}\n",
    "\n",
    "The following code is trying to create such an image. It defines a circle located at the image center. The desired result is the image on the right but if you run the following script you get the image at the top. There is a little flaw in the following script. Can you find and fix it such that the code generates the image at the bottom?\n",
    "\n",
    "![circle bad](circle-bad.png)![circle good](circle-good.png)\n"
   ]
  },
  {
   "cell_type": "code",
   "execution_count": 1,
   "metadata": {},
   "outputs": [],
   "source": [
    "import numpy as np\n",
    "from PIL import Image\n",
    "\n",
    "height = 400\n",
    "width = 600\n",
    "\n",
    "# Create an empty array\n",
    "img = np.zeros((height, width), dtype=np.uint8)\n",
    "\n",
    "#Create [x,y] coordinate combinations on grid\n",
    "xx, yy = np.mgrid[:height, :width]\n",
    "#Mathematical definiton of a circle centered at (200,200)\n",
    "circle = (xx - 200) ** 2 + (yy - 300) ** 2\n",
    "\n",
    "# Set the RGB values\n",
    "for x in range(img.shape[0]):\n",
    "    for y in range(img.shape[1]):\n",
    "        intensity  = circle[x][y]\n",
    "        img[x][y] = intensity\n",
    "\n",
    "#Save Image directly from buffer\n",
    "Image.fromarray(img,'L').save('circle-bad.png','PNG')"
   ]
  },
  {
   "cell_type": "markdown",
   "metadata": {},
   "source": [
    "### ANSWER:\n",
    "\n",
    "The problem is happening because we are working in 8-bit integer arithmetic and some pixel values cause overflow. (Check the values of array circle). Overflow means that the calculated values are out of 8-bit range ([0, 255]).\n",
    "The best way to solve such a problem is to normalize the values such that they correctly map into the 8-bit range. Use min-max normalization procedure. Consider the image array as I. Let p represents intensity of an arbitrary pixel from image I and p′ be the normalized pixel intensity, then we can define p′ as follows:\n",
    "$$ p' =\\frac{255∗ p−\\texttt{min}(I)}{\\texttt{max}(I) − \\texttt{min}(I) }  $$\n",
    "You can use $\\texttt{np.amin()}$ and $\\texttt{np.amax()}$ to calculate maximum and minimum values of an array respectively."
   ]
  }
 ],
 "metadata": {
  "kernelspec": {
   "display_name": "Python 2",
   "language": "python",
   "name": "python2"
  },
  "language_info": {
   "codemirror_mode": {
    "name": "ipython",
    "version": 2
   },
   "file_extension": ".py",
   "mimetype": "text/x-python",
   "name": "python",
   "nbconvert_exporter": "python",
   "pygments_lexer": "ipython2",
   "version": "2.7.10"
  }
 },
 "nbformat": 4,
 "nbformat_minor": 1
}
